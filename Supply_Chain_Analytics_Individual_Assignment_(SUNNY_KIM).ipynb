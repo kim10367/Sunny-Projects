{
  "nbformat": 4,
  "nbformat_minor": 0,
  "metadata": {
    "colab": {
      "provenance": [],
      "authorship_tag": "ABX9TyNDg+P+H02/F8HcPMB/wfoL",
      "include_colab_link": true
    },
    "kernelspec": {
      "name": "python3",
      "display_name": "Python 3"
    },
    "language_info": {
      "name": "python"
    }
  },
  "cells": [
    {
      "cell_type": "markdown",
      "metadata": {
        "id": "view-in-github",
        "colab_type": "text"
      },
      "source": [
        "<a href=\"https://colab.research.google.com/github/kim10367/Sunny-Projects/blob/main/Supply_Chain_Analytics_Individual_Assignment_(SUNNY_KIM).ipynb\" target=\"_parent\"><img src=\"https://colab.research.google.com/assets/colab-badge.svg\" alt=\"Open In Colab\"/></a>"
      ]
    },
    {
      "cell_type": "code",
      "execution_count": 1,
      "metadata": {
        "colab": {
          "base_uri": "https://localhost:8080/"
        },
        "id": "W_H_H-5yneay",
        "outputId": "22e3e511-e45c-453c-ce1c-fc337fb6780a"
      },
      "outputs": [
        {
          "output_type": "stream",
          "name": "stdout",
          "text": [
            "Requirement already satisfied: tabulate in /usr/local/lib/python3.10/dist-packages (0.9.0)\n"
          ]
        }
      ],
      "source": [
        "!pip install tabulate"
      ]
    },
    {
      "cell_type": "code",
      "source": [
        "import numpy as np\n",
        "from tabulate import tabulate\n",
        "import math"
      ],
      "metadata": {
        "id": "Ic4x7BoCnhrX"
      },
      "execution_count": 3,
      "outputs": []
    },
    {
      "cell_type": "markdown",
      "source": [
        "1. individual sourcing"
      ],
      "metadata": {
        "id": "-q4NA4jmsnhF"
      }
    },
    {
      "cell_type": "code",
      "source": [
        "# Given data for all products\n",
        "products = {\n",
        "    1: {'demand': 1000, 'common_cost': 100, 'specific_cost': 10, 'unit_cost': 50, 'holding_rate': 0.2},\n",
        "    2: {'demand': 300, 'common_cost': 100, 'specific_cost': 20, 'unit_cost': 60, 'holding_rate': 0.2},\n",
        "    3: {'demand': 100, 'common_cost': 100, 'specific_cost': 25, 'unit_cost': 30, 'holding_rate': 0.2},\n",
        "    4: {'demand': 50, 'common_cost': 100, 'specific_cost': 25, 'unit_cost': 30, 'holding_rate': 0.2},\n",
        "}\n",
        "\n",
        "# Function to calculate optimal Q\n",
        "def calculate_eoq(demand, ordering_cost, holding_cost):\n",
        "    return math.sqrt((2 * demand * ordering_cost) / holding_cost)\n",
        "\n",
        "# Function to calculate the total cost for a product\n",
        "def calculate_total_cost(demand, eoq, ordering_cost, holding_cost):\n",
        "    return (demand / eoq) * ordering_cost + (eoq / 2) * holding_cost\n",
        "\n",
        "# Calculate and sum individual sourcing costs\n",
        "total_cost = 0\n",
        "for product_id, product_info in products.items():\n",
        "    ordering_cost = product_info['common_cost'] + product_info['specific_cost']\n",
        "    holding_cost = product_info['holding_rate'] * product_info['unit_cost']\n",
        "    eoq = calculate_eoq(product_info['demand'], ordering_cost, holding_cost)\n",
        "    total_cost += calculate_total_cost(product_info['demand'], eoq, ordering_cost, holding_cost)\n",
        "\n",
        "print(f\"Total annual operational cost for individual sourcing: {total_cost}\")\n"
      ],
      "metadata": {
        "colab": {
          "base_uri": "https://localhost:8080/"
        },
        "id": "EUXXjd-tnqky",
        "outputId": "f123e175-30c6-4f0d-82c5-d91a3bbe3d29"
      },
      "execution_count": 4,
      "outputs": [
        {
          "output_type": "stream",
          "name": "stdout",
          "text": [
            "Total annual operational cost for individual sourcing: 3073.9153138822376\n"
          ]
        }
      ]
    },
    {
      "cell_type": "markdown",
      "source": [
        "2. complete aggregation"
      ],
      "metadata": {
        "id": "UsyrmSg9srqD"
      }
    },
    {
      "cell_type": "code",
      "source": [
        "# Initializing data as numpy arrays\n",
        "demands = np.array([1000, 300, 100, 50])\n",
        "common_costs = np.array([100, 100, 100, 100])\n",
        "specific_costs = np.array([10, 20, 25, 25])\n",
        "unit_costs = np.array([50, 60, 30, 30])\n",
        "holding_cost_rates = np.array([0.2, 0.2, 0.2, 0.2])\n",
        "\n",
        "# Average of ordering costs for complete aggregation\n",
        "S = np.mean(common_costs + specific_costs)\n",
        "\n",
        "# Calculate the numerator of the formula for n\n",
        "numerator = np.sum(demands * holding_cost_rates * unit_costs)\n",
        "\n",
        "# Calculate n for complete aggregation\n",
        "n = np.sqrt(numerator / (2 * S))\n",
        "\n",
        "# Calculate total holding cost and ordering cost under complete aggregation\n",
        "Optimal_Q = demands / n\n",
        "Total_Holding_Cost = np.sum((Optimal_Q / 2) * holding_cost_rates * unit_costs)\n",
        "Total_Ordering_Cost = n * S\n",
        "\n",
        "# Total Annual Cost\n",
        "Total_Annual_Cost_2 = Total_Ordering_Cost + Total_Holding_Cost\n",
        "\n",
        "# Display results\n",
        "print(f\"Order Frequency (n) under Complete Aggregation: {n:.2f}\")\n",
        "print(f\"Total Annual Cost under Complete Aggregation: ${Total_Annual_Cost_2:.2f}\")\n",
        "\n",
        "# For displaying each product's details in a table\n",
        "opt_results_aggregated = [[\"Product {}\".format(i+1), Optimal_Q[i], demands[i] / Optimal_Q[i], n, (Optimal_Q[i] / 2) * holding_cost_rates[i] * unit_costs[i]] for i in range(len(demands))]\n",
        "headers_aggregated = [\"Product\", \"Optimal Q\", \"Time Between Orders (T)\", \"Order Frequency (N)\", \"Holding Cost\"]\n",
        "\n",
        "# Print the table for Complete Aggregation\n",
        "print(tabulate(opt_results_aggregated, headers=headers_aggregated, tablefmt=\"pretty\", numalign=\"right\"))\n"
      ],
      "metadata": {
        "colab": {
          "base_uri": "https://localhost:8080/"
        },
        "id": "sIeGqDy4o3SA",
        "outputId": "b4e8a660-7905-48d8-ad2c-8545940f9a7e"
      },
      "execution_count": 7,
      "outputs": [
        {
          "output_type": "stream",
          "name": "stdout",
          "text": [
            "Order Frequency (n) under Complete Aggregation: 7.77\n",
            "Total Annual Cost under Complete Aggregation: $1865.48\n",
            "+-----------+--------------------+-------------------------+---------------------+--------------------+\n",
            "|  Product  |     Optimal Q      | Time Between Orders (T) | Order Frequency (N) |    Holding Cost    |\n",
            "+-----------+--------------------+-------------------------+---------------------+--------------------+\n",
            "| Product 1 | 128.65350418053538 |    7.772815877574013    |  7.772815877574012  | 643.2675209026769  |\n",
            "| Product 2 | 38.596051254160614 |    7.772815877574013    |  7.772815877574012  | 231.5763075249637  |\n",
            "| Product 3 | 12.865350418053538 |    7.772815877574013    |  7.772815877574012  | 38.596051254160614 |\n",
            "| Product 4 | 6.432675209026769  |    7.772815877574013    |  7.772815877574012  | 19.298025627080307 |\n",
            "+-----------+--------------------+-------------------------+---------------------+--------------------+\n"
          ]
        }
      ]
    },
    {
      "cell_type": "markdown",
      "source": [
        "3. tailored aggregation"
      ],
      "metadata": {
        "id": "_T1N0MG-s24E"
      }
    },
    {
      "cell_type": "code",
      "source": [
        "# Given product data (assuming common_cost is defined outside the product dictionaries)\n",
        "common_cost = 100\n",
        "\n",
        "# Step 1: Identify the most frequently ordered product\n",
        "eoqs = {pid: calculate_eoq(product['demand'], product['specific_cost'], product['holding_rate'] * product['unit_cost']) for pid, product in products.items()}\n",
        "most_frequent_product = min(eoqs, key=eoqs.get)  # Product with the smallest EOQ (most frequently ordered)\n",
        "\n",
        "# Step 2 & 3: Recompute frequencies for other products and identify mi\n",
        "m_values = {pid: math.ceil(max(eoqs.values()) / eoq) for pid, eoq in eoqs.items()}  # mi values, rounded up\n",
        "\n",
        "# Step 4: Recalculate ordering frequency n for the most frequently ordered product\n",
        "sum_hCFm = sum(products[pid]['holding_rate'] * products[pid]['unit_cost'] * products[pid]['demand'] * m for pid, m in m_values.items())\n",
        "total_specific_costs = sum(products[pid]['specific_cost'] / m for pid, m in m_values.items())\n",
        "n = math.sqrt(sum_hCFm / (2 * (common_cost + total_specific_costs)))\n",
        "\n",
        "# Step 5: Identify ordering frequency for all products using n and mi\n",
        "frequencies = {pid: n / m for pid, m in m_values.items()}\n",
        "\n",
        "# Calculate the total annual operational cost for the tailored aggregation strategy\n",
        "total_annual_cost_tailored = 0\n",
        "\n",
        "for pid, product in products.items():\n",
        "    # Calculate the order quantity for each product\n",
        "    Q = product['demand'] / frequencies[pid]\n",
        "\n",
        "    # Calculate the ordering cost for each product\n",
        "    # For the most frequently ordered product, use common_cost + specific_cost\n",
        "    # For others, use specific_cost as ordering cost\n",
        "    if pid == most_frequent_product:\n",
        "        ordering_cost = common_cost + product['specific_cost']\n",
        "    else:\n",
        "        ordering_cost = product['specific_cost']\n",
        "\n",
        "    ordering_cost_annual = frequencies[pid] * ordering_cost\n",
        "\n",
        "    # Calculate the holding cost for each product\n",
        "    holding_cost = (Q / 2) * product['holding_rate'] * product['unit_cost']\n",
        "\n",
        "    # Sum the ordering and holding costs for the total annual cost\n",
        "    total_annual_cost_tailored += ordering_cost_annual + holding_cost\n",
        "\n",
        "print(f\"Total annual operational cost under the tailored aggregation strategy: {total_annual_cost_tailored}\")\n"
      ],
      "metadata": {
        "colab": {
          "base_uri": "https://localhost:8080/"
        },
        "id": "7OJ0sJveqAy1",
        "outputId": "da7aca60-b276-4a86-9cd7-b35f08586525"
      },
      "execution_count": 23,
      "outputs": [
        {
          "output_type": "stream",
          "name": "stdout",
          "text": [
            "Total annual operational cost under the tailored aggregation strategy: 1779.7106007677785\n"
          ]
        }
      ]
    },
    {
      "cell_type": "code",
      "source": [],
      "metadata": {
        "id": "W4jDNU9erunX"
      },
      "execution_count": 11,
      "outputs": []
    }
  ]
}